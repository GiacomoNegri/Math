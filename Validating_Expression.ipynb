{
 "cells": [
  {
   "cell_type": "markdown",
   "id": "cd92b857-cef1-4f68-8b6d-19332079031c",
   "metadata": {},
   "source": [
    "## Validating mathematical expression\n",
    "### Description\n",
    "\n",
    "You need to write a Python function that takes a mathematical expression as a string and performs the following checks:\n",
    "\n",
    "- **Non-empty expression**: the expression should not be empty.\n",
    "\n",
    "- **Valid characters**: the expression should contain only digits `(0-9)`, arithmetic operators `(+, -, *, /)`, and parentheses `((, ))`.\n",
    "\n",
    "- **Balanced Parentheses**: The expression should have balanced parentheses.\n",
    "\n",
    "- **No division by zero**: the expression should not include any division by zero (simply the string `/ 0`).\n",
    "\n",
    "If the expression does not meet these conditions, the function should raise an appropriate exception or assertion error. Additionally, the function should include a simple mechanism to retry if the input does not meet the criteria.\n",
    "\n",
    "#### Requirements\n",
    "\n",
    "- Use assertions to ensure the expression is not empty.\n",
    "\n",
    "- Assert that the expression contains only valid characters.\n",
    "\n",
    "- Raise a `ValueError` if the parentheses are not balanced.\n",
    "\n",
    "- Raise a `ZeroDivisionError` if the expression includes division by zero.`\n",
    "\n",
    "- Use a `try-except` block to catch these exceptions and prompt the user to enter the expression again.\n",
    "\n",
    "### Code"
   ]
  }
 ],
 "metadata": {
  "kernelspec": {
   "display_name": "Python 3 (ipykernel)",
   "language": "python",
   "name": "python3"
  },
  "language_info": {
   "codemirror_mode": {
    "name": "ipython",
    "version": 3
   },
   "file_extension": ".py",
   "mimetype": "text/x-python",
   "name": "python",
   "nbconvert_exporter": "python",
   "pygments_lexer": "ipython3",
   "version": "3.12.7"
  }
 },
 "nbformat": 4,
 "nbformat_minor": 5
}
