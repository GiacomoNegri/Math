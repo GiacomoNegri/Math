{
 "cells": [
  {
   "cell_type": "markdown",
   "id": "c30778cf-0d4d-407f-a1c9-1aa5d4406d05",
   "metadata": {},
   "source": [
    "## Quadratic Equation\n",
    "### Description\n",
    "As you recall from high school, a quadratic equation is a mathematical expression of the form $ax^2+bx+c=0$, where $a$, $b$ and $c$ are real numbers and you need to find $x$ such that the equality is true. If $\\Delta=b^2-4ac$ then the formulas for the two roots are\n",
    "$$\n",
    "\\frac{-b+\\sqrt{\\Delta}}{2a}\\qquad\\qquad\\frac{-b-\\sqrt{\\Delta}}{2a}\n",
    "$$\n",
    "If $\\Delta=0$ the two numbers are equal. If $\\Delta<0$ there are no roots.\n",
    "\n",
    "Write a function `quadratic_roots(a,b,c)` that:\n",
    "- returns a tuple of 2 elements, if $\\Delta>0$\n",
    "- returns a tuple of 1 element, if $\\Delta=0$\n",
    "- raises a ValueError if $\\Delta<0$. \n",
    "### Code"
   ]
  },
  {
   "cell_type": "code",
   "execution_count": null,
   "id": "6c335d9d-f8a6-47a3-aacb-883dbfb84f47",
   "metadata": {},
   "outputs": [],
   "source": [
    "import math\n",
    "\n",
    "def quadratic_roots(a: float, b: float, c: float) -> tuple[float]:\n",
    "    \n",
    "    try:\n",
    "        delta=b**2-4*a*c\n",
    "        if delta:\n",
    "            tup_res=tuple(((-b+math.sqrt(delta))/(2**a)))\n",
    "            tup_res=tup_res+(((-b-math.sqrt(delta))/(2**a)),)\n",
    "            return tup_res\n",
    "        else:\n",
    "            return -b/(2**a)\n",
    "    except ValueError:\n",
    "        return ValueError(\"There are no roots\")\n",
    "\n",
    "#Example\n",
    "a = 4\n",
    "b = 4\n",
    "c = 3\n",
    "\n",
    "print(quadratic_roots(a,b,c))"
   ]
  }
 ],
 "metadata": {
  "kernelspec": {
   "display_name": "Python 3 (ipykernel)",
   "language": "python",
   "name": "python3"
  },
  "language_info": {
   "codemirror_mode": {
    "name": "ipython",
    "version": 3
   },
   "file_extension": ".py",
   "mimetype": "text/x-python",
   "name": "python",
   "nbconvert_exporter": "python",
   "pygments_lexer": "ipython3",
   "version": "3.12.7"
  }
 },
 "nbformat": 4,
 "nbformat_minor": 5
}
