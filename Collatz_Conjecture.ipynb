{
 "cells": [
  {
   "cell_type": "markdown",
   "id": "adcd3ca4-b62a-4ec8-9afb-dbe48e800a01",
   "metadata": {},
   "source": [
    "## The Collatz Conjecture\n",
    "## Description\n",
    "\n",
    "Start from any positive integer *n*. At every step do one of the following to get a new number:\n",
    "- if the number is even, divide it by two\n",
    "- if the number is odd, multiply it by three and add 1\n",
    "\n",
    "For example, say you start from 6. 6 is even, so the next number is 6/2=3. 3 is odd so we multiply it by 3 and add 1 to get 10. 10 is even, we get 5. 5 is odd, so we get 16. Then we divide by 2, to get 8. Then again we divide by 2, to get 4 and from 4 we get 2, then 1, then back to 4 and we end up in a cycle 4, 2, 1.\n",
    "\n",
    "The Collatz Conjecture says that no matter the number you start from, you will end up in the 4, 2, 1 cycle.\n",
    "\n",
    "The conjecture is still such, no one knows whether it is true or not.\n",
    "## Code"
   ]
  },
  {
   "cell_type": "code",
   "execution_count": null,
   "id": "1b916efc-d92a-4f22-945e-021845feda4e",
   "metadata": {},
   "outputs": [],
   "source": [
    "def collatz(n):\n",
    "    out=str(n)\n",
    "    while n!=1:\n",
    "        if n%2==0:\n",
    "            n=n/2\n",
    "            out=out+'-'+str(n)\n",
    "        else:\n",
    "            n=n*3+1\n",
    "            out=out+'-'+str(n)\n",
    "    return out"
   ]
  }
 ],
 "metadata": {
  "kernelspec": {
   "display_name": "Python 3 (ipykernel)",
   "language": "python",
   "name": "python3"
  },
  "language_info": {
   "codemirror_mode": {
    "name": "ipython",
    "version": 3
   },
   "file_extension": ".py",
   "mimetype": "text/x-python",
   "name": "python",
   "nbconvert_exporter": "python",
   "pygments_lexer": "ipython3",
   "version": "3.12.7"
  }
 },
 "nbformat": 4,
 "nbformat_minor": 5
}
