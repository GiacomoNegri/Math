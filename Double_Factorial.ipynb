{
 "cells": [
  {
   "cell_type": "markdown",
   "id": "05872d21-43cc-4932-888a-42c9b4f6abaa",
   "metadata": {},
   "source": [
    "## Double Facotorial\n",
    "### Description\n",
    "Define a function which computes the [double factorial](https://en.wikipedia.org/wiki/Double_factorial) of a number:\n",
    "$$\n",
    "n!! = \n",
    "\\begin{cases}\n",
    "n\\cdot(n-2)\\cdot(n-4)\\dots\\cdot2 & n \\text{ even}\\\\\n",
    "n\\cdot(n-2)\\cdot(n-4)\\dots\\cdot1 & n \\text{ odd}\\\\\n",
    "\\end{cases}\n",
    "$$\n",
    "using for loops and ranges. Conventionally, $0!!=1$.\n",
    "### Code"
   ]
  },
  {
   "cell_type": "code",
   "execution_count": null,
   "id": "0a398c40-2fb3-493c-8bd6-0a00ecb3b349",
   "metadata": {},
   "outputs": [],
   "source": [
    "def doublefact(n):\n",
    "    if n<0:\n",
    "        raise ValueError\n",
    "    else:\n",
    "        prod=1\n",
    "        if n%2==0:\n",
    "            values=list(range(n,1,-2))\n",
    "        else:\n",
    "            values=list(range(n,0,-2))\n",
    "        for i_ in values:\n",
    "                prod*=i_\n",
    "        return prod"
   ]
  }
 ],
 "metadata": {
  "kernelspec": {
   "display_name": "Python 3 (ipykernel)",
   "language": "python",
   "name": "python3"
  },
  "language_info": {
   "codemirror_mode": {
    "name": "ipython",
    "version": 3
   },
   "file_extension": ".py",
   "mimetype": "text/x-python",
   "name": "python",
   "nbconvert_exporter": "python",
   "pygments_lexer": "ipython3",
   "version": "3.12.7"
  }
 },
 "nbformat": 4,
 "nbformat_minor": 5
}
