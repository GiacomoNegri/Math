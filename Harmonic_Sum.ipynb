{
 "cells": [
  {
   "cell_type": "markdown",
   "id": "f69b70a8-39fe-4ee4-abd3-f27098968b08",
   "metadata": {},
   "source": [
    "## Harmonic Sum\n",
    "### Description\n",
    "The $n$-th Harmonic number, $H_n$, is defined by\n",
    "$$\n",
    "H_n = \\sum_{i=1}^{n} \\frac{1}{i}\n",
    "$$\n",
    "For example, $H_1=1$, $H_2=1+\\frac12=\\frac32$, $H_3=1+\\frac12+\\frac13=\\frac{11}6$.\n",
    "\n",
    "### Code"
   ]
  },
  {
   "cell_type": "code",
   "execution_count": null,
   "id": "8fc8dd71-8fbf-4b52-ab77-fcfbcead1851",
   "metadata": {},
   "outputs": [],
   "source": [
    "def H_number(n):\n",
    "    if n>0:\n",
    "        return H_number(n-1)+1/n\n",
    "    elif n==1:\n",
    "        return H_number(n)\n",
    "    else:\n",
    "        return 0"
   ]
  }
 ],
 "metadata": {
  "kernelspec": {
   "display_name": "Python 3 (ipykernel)",
   "language": "python",
   "name": "python3"
  },
  "language_info": {
   "codemirror_mode": {
    "name": "ipython",
    "version": 3
   },
   "file_extension": ".py",
   "mimetype": "text/x-python",
   "name": "python",
   "nbconvert_exporter": "python",
   "pygments_lexer": "ipython3",
   "version": "3.12.7"
  }
 },
 "nbformat": 4,
 "nbformat_minor": 5
}
