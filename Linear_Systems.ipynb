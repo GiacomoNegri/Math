{
 "cells": [
  {
   "cell_type": "markdown",
   "id": "8b5539e2-eda3-401e-bdff-8e57aacc1abf",
   "metadata": {},
   "source": [
    "## Solving a Linear System with Numpy\n",
    "\n",
    "### Description\n",
    "\n",
    "In this example, we solve a linear system of equations of the form \\(Ax = b\\), where \\(A\\) is a matrix and \\(b\\) is a vector. The goal is to determine whether the system has a solution and, if so, to compute it.\n",
    "\n",
    "To solve the system, we first check the consistency of the equations. A system is consistent if the rank of the coefficient matrix \\(A\\) is the same as the rank of the augmented matrix \\(A|b\\), where \\(b\\) is added as an additional column to \\(A\\). If the ranks are equal, the system has at least one solution. If they are different, the system has no solution.\n",
    "\n",
    "Once we confirm the system is consistent, we proceed with finding the solution:\n",
    "- If the matrix \\(A\\) is square (i.e., the number of rows equals the number of columns) and invertible, we can solve for \\(x\\) by calculating \\(x = A^{-1}b\\), where \\(A^{-1}\\) is the inverse of \\(A\\).\n",
    "- If \\(A\\) is not square or invertible, we use the pseudo-inverse of \\(A\\), denoted \\(A^+\\), and compute the solution as \\(x = A^+b\\).\n",
    "\n",
    "In Python, we use the following functions from the `numpy` library:\n",
    "- **`np.linalg.matrix_rank(M)`**: This function returns the rank of matrix \\(M\\). It is used to check the rank of both the coefficient matrix \\(A\\) and the augmented matrix \\(A|b\\) to determine the consistency of the system.\n",
    "- **`np.linalg.inv(M)`**: This function calculates the inverse of a square matrix \\(M\\). It is used when \\(A\\) is square and invertible to find the solution \\(x = A^{-1}b\\).\n",
    "- **`np.linalg.pinv(M)`**: This function calculates the pseudo-inverse of a matrix \\(M\\). It is used when \\(A\\) is not square or invertible, providing an alternative way to compute the solution \\(x = A^+b\\).\n",
    "- **`@` operator**: This operator is used to perform matrix multiplication in Python. For example, `A @ b` computes the product of matrix \\(A\\) and vector \\(b\\), which is used to find the solution to the system.\n",
    "\n",
    "By using these functions, we can solve the linear system, check if a solution exists, and compute the solution if applicable.\n",
    "\n"
   ]
  },
  {
   "cell_type": "code",
   "execution_count": null,
   "id": "66a41358-98f6-4bd1-af96-687342163f4d",
   "metadata": {},
   "outputs": [],
   "source": [
    "import numpy as np\n",
    "\n",
    "A = np.array([[1,2,3],[2,3,4],[5,1,2]])\n",
    "b = np.array([[2],[3],[4]])\n",
    "\n",
    "# Find a solution if a solution exists\n",
    "def la_solving(A,b):\n",
    "    Ab=np.hstack([A,b])\n",
    "    rank_Ab=np.linalg.matrix_rank(Ab)\n",
    "    rank_A=np.linalg.matrix_rank(A)\n",
    "    if rank_Ab==rank_A:\n",
    "        if A.shape[0]==A.shape[1]:\n",
    "            inv=np.linalg.inv(A)\n",
    "        else:\n",
    "            inv=np.linalg.pinv(A)\n",
    "        return inv@b\n",
    "    else:\n",
    "        return \"No solution found.\"\n",
    "\n",
    "la_solving(A,b)"
   ]
  }
 ],
 "metadata": {
  "kernelspec": {
   "display_name": "Python 3 (ipykernel)",
   "language": "python",
   "name": "python3"
  },
  "language_info": {
   "codemirror_mode": {
    "name": "ipython",
    "version": 3
   },
   "file_extension": ".py",
   "mimetype": "text/x-python",
   "name": "python",
   "nbconvert_exporter": "python",
   "pygments_lexer": "ipython3",
   "version": "3.12.7"
  }
 },
 "nbformat": 4,
 "nbformat_minor": 5
}
