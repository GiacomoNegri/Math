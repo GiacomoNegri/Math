{
 "cells": [
  {
   "cell_type": "markdown",
   "id": "0e41afb0-70b3-4782-9fd1-a6f020856536",
   "metadata": {},
   "source": [
    "## Super-increasing Sequences\n",
    "\n",
    "### Description\n",
    "\n",
    "A sequence \\( L = [a_0, a_1, \\dots, a_n] \\) of non-negative integers is called **super-increasing** if it satisfies the following property:\n",
    "\n",
    "For every \\( i > 0 \\), the sum of all preceding elements is strictly less than the \\( i \\)-th element in the sequence. Mathematically, this means:\n",
    "\n",
    "$$\n",
    "a_0 + a_1 + \\dots + a_{i-1} = \\sum_{k=0}^{i-1}a_k < a_i\n",
    "$$\n",
    "\n",
    "For example, the sequence \\( [1, 3, 5, 11, 30] \\) is super-increasing because:\n",
    "\n",
    "- \\( 1 < 3 \\)\n",
    "- \\( 1 + 3 = 4 < 5 \\)\n",
    "- \\( 1 + 3 + 5 = 9 < 11 \\)\n",
    "- \\( 1 + 3 + 5 + 11 = 20 < 30 \\)\n",
    "\n",
    "However, the sequence \\( [1, 3, 8, 20, 30] \\) is not super-increasing, as \\( 1 + 3 + 8 + 20 = 32 \\), which is greater than 30.\n",
    "\n",
    "Given a super-increasing sequence \\( L = [a_0, a_1, \\dots, a_n] \\) and a number \\( N \\), which is the sum of some of the elements in the sequence, it can be proven that there is a unique way to select the elements from the sequence to obtain \\( N \\). This means that if we are provided with the value of \\( N \\), we can determine exactly which elements of the sequence sum up to \\( N \\).\n",
    "\n",
    "The problem is to find a function that, given a super-increasing sequence \\( L \\) and a number \\( N \\), returns the list of elements from \\( L \\) that sum up to \\( N \\). If there is no such combination, the function should raise a `ValueError`.\n",
    "\n",
    "### Code"
   ]
  },
  {
   "cell_type": "code",
   "execution_count": null,
   "id": "47163151-a48b-4f35-be51-b6590fa7c9e9",
   "metadata": {},
   "outputs": [],
   "source": [
    "def si_sum(L,N):\n",
    "    R=[]\n",
    "    for i in L[::-1]:\n",
    "        if i<=N and N-i>0:\n",
    "            N=N-i\n",
    "            R.append(i)\n",
    "            print(R)\n",
    "            if N==0:\n",
    "                return R\n",
    "    raise ValueError"
   ]
  }
 ],
 "metadata": {
  "kernelspec": {
   "display_name": "Python 3 (ipykernel)",
   "language": "python",
   "name": "python3"
  },
  "language_info": {
   "codemirror_mode": {
    "name": "ipython",
    "version": 3
   },
   "file_extension": ".py",
   "mimetype": "text/x-python",
   "name": "python",
   "nbconvert_exporter": "python",
   "pygments_lexer": "ipython3",
   "version": "3.12.7"
  }
 },
 "nbformat": 4,
 "nbformat_minor": 5
}
