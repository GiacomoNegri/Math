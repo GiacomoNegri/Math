{
 "cells": [
  {
   "cell_type": "markdown",
   "id": "adc271af-319f-4c91-b7d4-c2f4a7ddb592",
   "metadata": {},
   "source": [
    "## Egyptian Fractions"
   ]
  },
  {
   "cell_type": "markdown",
   "id": "b35d7aed-cf29-4665-bfbe-521c7decc024",
   "metadata": {},
   "source": [
    "A bit of mathematical notation:\n",
    "\n",
    "1. $\\left\\lceil {\\frac {y}{x}}\\right\\rceil$ is the *ceiling* of a floating point number, that is, the smallest integer greater than or equal to the integer. For example:\n",
    "   - $\\left\\lceil {\\frac{17}4}\\right\\rceil=4$, because $17/4=4.25$\n",
    "   - $\\left\\lceil {\\pi}\\right\\rceil=4$, because $\\pi=3.14159\\dots$. "
   ]
  },
  {
   "cell_type": "markdown",
   "id": "a46c1f3e-77de-4bfe-b6dd-cf38560ed1ba",
   "metadata": {},
   "source": [
    "In Python, the ceiling function is available through the `math` module as `math.ceil(...)`"
   ]
  },
  {
   "cell_type": "markdown",
   "id": "32ce092b-67e7-4181-8343-bfe08d422339",
   "metadata": {},
   "source": [
    "2. $(a \\bmod b)$ operator returns the remainder of the division of $a$ by $b$. For example:\n",
    "   - $10\\bmod 3=1$, because 10 divided by 3, gets a remainder of 1. \n",
    "   - $13\\bmod 5=3$, because 13 divided by 5, gets a remainder of 3.\n",
    "  \n",
    "   When $a$ is negative, the remainder is always a number between 0 and $b-1$. For example, $-13\\bmod 4=3$ since $-13/4=-4\\times 4+3$. "
   ]
  },
  {
   "cell_type": "markdown",
   "id": "b830ccd2-104a-4137-95d9-be2b67553119",
   "metadata": {},
   "source": [
    "In Python, the $\\bmod$ operator is available through the symbol `%`."
   ]
  },
  {
   "cell_type": "markdown",
   "id": "44936e84-6d40-4477-a0b2-ca3abafb32c8",
   "metadata": {},
   "source": [
    "3. A *unit fraction* is a fraction whose numerator is 1 and the denominator a positive integer. For example\n",
    "    $$\n",
    "    \\frac1{15}, \\frac1{3}, \\frac1{23}\n",
    "    $$ \n",
    "   are all unit fractions."
   ]
  },
  {
   "cell_type": "markdown",
   "id": "0716250d-0ba8-4c67-90dc-a72d09db3d54",
   "metadata": {},
   "source": [
    "An **Egyptian fraction** is a finite sum of distinct unit fractions, such as\n",
    "$$\n",
    "\\frac12 + \\frac13 + \\frac1{16}\n",
    "$$\n",
    "\n",
    "The value of an Egyptian fraction is, obviously, another fraction. For example, the Egyptian fraction above is equal to\n",
    "$$\n",
    "\\frac12 + \\frac13 + \\frac1{16}\n",
    "={\\displaystyle {\\frac {43}{48}}}.\n",
    "$$ "
   ]
  },
  {
   "cell_type": "markdown",
   "id": "dc2691cd-fdfa-4783-ac0b-a6cc2eeace28",
   "metadata": {},
   "source": [
    "In the middle ages, Fibonacci devised a greedy algorithm for transforming any rational number into an Egyptian fraction. The algorithm  expands the fraction $\\frac xy$ to be represented, by repeatedly performing the replacement\n",
    "$$\n",
    "{\\displaystyle {\\frac {x}{y}}={\\frac {1}{\\left\\lceil {\\frac {y}{x}}\\right\\rceil }}+{\\frac {(-y){\\bmod {x}}}{y\\left\\lceil {\\frac {y}{x}}\\right\\rceil }}}\n",
    "$$\n",
    "until in the last fraction the denominator is a multiple of the numerator, in which case it simplifies into $\\frac1b$ for some $b$, and in the next step the result of the modulus operation is 0."
   ]
  },
  {
   "cell_type": "markdown",
   "id": "c435f27b-9042-47a6-a09d-665ff9aa6480",
   "metadata": {},
   "source": [
    "\n",
    "Following is an example of the Fibonacci algorithm with the fraction $\\frac4{13}$.\n",
    "\n",
    "*Step 1*\n",
    "\n",
    "$$\n",
    "{\\frac {4}{13}}\n",
    "= {\\frac {1}{\\left\\lceil {\\frac {13}{4}}\\right\\rceil }}+{\\frac {(-13){\\,\\bmod\\, {4}}}{13\\left\\lceil {\\frac {13}{4}}\\right\\rceil }}\n",
    "= \\frac 14 + \\frac 3{52}\n",
    "$$\n",
    "\n",
    "*Step 2*\n",
    "\n",
    "$$\n",
    "{\\frac {4}{13}} = \\frac 14 + \\frac 3{52} \n",
    "= \\frac14 + {\\frac {1}{\\left\\lceil {\\frac {52}{3}}\\right\\rceil }} + \n",
    "{\\frac {(-52){\\,\\bmod\\, {3}}}{52\\left\\lceil {\\frac {52}{3}}\\right\\rceil }}\n",
    "= \\frac14 + \\frac 1{18} + \\frac 2{936}\n",
    "$$\n",
    "\n",
    "*Step 3*\n",
    "\n",
    "$$\n",
    "{\\frac {4}{13}} = \n",
    "\\frac 14 + \\frac 1{18} + {\\frac {1}{\\left\\lceil {\\frac {936}{2}}\\right\\rceil }} + \n",
    "{\\frac {(-936){\\,\\bmod\\, {2}}}{936\\left\\lceil {\\frac {936}{2}}\\right\\rceil }} =\n",
    "\\frac 14 + \\frac 1{18} + \\frac 1{468} + 0\n",
    "$$\n",
    "\n",
    "and the algorithm terminates since $-936\\bmod 2 = 0$."
   ]
  },
  {
   "cell_type": "markdown",
   "id": "6de5f3ef-aa4a-4507-9a5b-c38f81fdb976",
   "metadata": {},
   "source": [
    "Below a class `Fraction` is provided. Your task is to write the body of the class `EgyptianFraction` which is a subclass of `Fraction`. Besides numerator and denominator, `EgyptianFraction` must have an attribute `iterable`, which contains the list of the denominators of the Egyptian fraction corresponding to the given fraction, in the order they appear.\n",
    "\n",
    "The constructor of `EgyptianFraction` accepts the pair `numerator/denominator` or the `iterable`, **but not both** (you don't have to check that the two parameters are not passed together). \n",
    "\n",
    "In either case, it builds the \"other\" representation with the two methods, `fraction_to_egyptian(self)` and `egyptian_to_fraction(self)`. Both methods change the \"other\" parameter in the proper way, and return `None`.\n",
    "\n",
    "For example, setting `a = EgyptianFraction(45, 77)` builds an object of type EgyptianFraction and sets `a.iterable` to `[2, 12, 924]`. Similarly, setting `b = EgyptianFraction(2,3,4)` builds an object of type EgyptianFraction and sets `b.numerator` to `13` and `b.denominator` to `12`."
   ]
  },
  {
   "cell_type": "markdown",
   "id": "e900ebd5-572e-4e3a-8875-4cac8bb32fd9",
   "metadata": {},
   "source": [
    "We suggest you start by writing the two methods as standalone functions (not inside the class), to check the code more easily. "
   ]
  },
  {
   "cell_type": "code",
   "execution_count": 2,
   "id": "02b174ea-5dbe-41d4-bde1-18a913506ddc",
   "metadata": {},
   "outputs": [],
   "source": [
    "import math\n",
    "\n",
    "class Fraction:\n",
    "    def __init__(self, numerator: int = 0, denominator: int = 1) -> None:\n",
    "        if denominator == 0:\n",
    "            raise ValueError\n",
    "        self.numerator = numerator\n",
    "        self.denominator = denominator\n",
    "\n",
    "    def __str__(self) -> str:\n",
    "        return f'{self.numerator}/{self.denominator}'\n",
    "\n",
    "class EgyptianFraction(Fraction):\n",
    "\n",
    "    def __init__(self, numerator: int = 0, denominator: int = 1, iterable = None) -> None:\n",
    "        if iterable:\n",
    "            self.iterable = iterable\n",
    "            self.egyptian_to_fraction()\n",
    "        else:\n",
    "            super().__init__(numerator=numerator, denominator=denominator)\n",
    "            self.fraction_to_egyptian()\n",
    "        \n",
    "    def fraction_to_egyptian(self) -> None:\n",
    "        den_list = []\n",
    "        c = math.ceil(self.denominator / self.numerator)\n",
    "        den_list.append(c)\n",
    "        num = - self.denominator % self.numerator\n",
    "        den = self.denominator * c\n",
    "        while num:\n",
    "            c = math.ceil(den / num)\n",
    "            den_list.append(c)\n",
    "            num = - den % num\n",
    "            den = den * c\n",
    "        self.iterable = den_list\n",
    "    \n",
    "    def egyptian_to_fraction(self) -> None:\n",
    "        den = 1\n",
    "        for n in self.iterable:\n",
    "            den = den * n\n",
    "        num = 0\n",
    "        for n in self.iterable:\n",
    "            num += den // n\n",
    "        for i  in range(2, min(num, den)):\n",
    "            while num % i == 0 and den % i == 0:\n",
    "                num = num // i\n",
    "                den = den // i\n",
    "        self.numerator = num\n",
    "        self.denominator = den"
   ]
  },
  {
   "cell_type": "code",
   "execution_count": null,
   "id": "2cd93064-3f42-4259-9773-8dad59393aba",
   "metadata": {},
   "outputs": [],
   "source": [
    "e = EgyptianFraction(iterable=[2,3,4])\n",
    "assert e.numerator == 13\n",
    "assert e.denominator == 12\n",
    "assert EgyptianFraction(45, 77).iterable == [2, 12, 924]\n",
    "b = EgyptianFraction(iterable = [2,4,5]) # adding fractions gets 38/40, not 19/20\n",
    "assert math.isclose(b.numerator/b.denominator, 19/20)\n",
    "assert EgyptianFraction(1, 7).iterable == [7]\n",
    "assert EgyptianFraction(4, 13).iterable == [4, 18, 468]\n",
    "assert EgyptianFraction(7, 15).iterable == [3, 8, 120]\n",
    "assert EgyptianFraction(1805, 1806).iterable == [2, 3, 7, 43]\n",
    "c = EgyptianFraction(18, 7).iterable == [1, 1, 2, 14]\n",
    "d = EgyptianFraction(iterable=[1, 1, 2, 14]) # adding fractions gets 36/14, not 18/7\n",
    "assert math.isclose(d.numerator/d.denominator, 18/7)\n"
   ]
  }
 ],
 "metadata": {
  "kernelspec": {
   "display_name": "Python 3 (ipykernel)",
   "language": "python",
   "name": "python3"
  },
  "language_info": {
   "codemirror_mode": {
    "name": "ipython",
    "version": 3
   },
   "file_extension": ".py",
   "mimetype": "text/x-python",
   "name": "python",
   "nbconvert_exporter": "python",
   "pygments_lexer": "ipython3",
   "version": "3.12.7"
  }
 },
 "nbformat": 4,
 "nbformat_minor": 5
}
