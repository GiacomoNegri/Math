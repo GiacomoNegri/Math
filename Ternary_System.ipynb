{
 "cells": [
  {
   "cell_type": "markdown",
   "id": "43eec4f3-d864-421e-88a7-c1ca45c748d0",
   "metadata": {},
   "source": [
    "## Ternary System\n",
    "\n",
    "### Description\n",
    "\n",
    "In the decimal positional system, the value of each digit in a number is determined by its position and the corresponding power of 10. For example, the number 475 can be written as:\n",
    "\n",
    "$$\n",
    "475 = 4 \\cdot 10^2 + 7 \\cdot 10^1 + 5 \\cdot 10^0.\n",
    "$$\n",
    "\n",
    "In the ternary system, the position of the digit corresponds to powers of 3, rather than powers of 10. The ternary system uses only the digits 0, 1, and 2.\n",
    "\n",
    "To convert a decimal number \\(n\\) into its ternary representation, we use the following steps:\n",
    "\n",
    "1. **Divide \\(n\\) by 3**: The quotient from this division becomes the new number to divide, and the remainder is the current digit in the ternary representation.\n",
    "2. **Repeat the division**: Continue dividing the quotient by 3, collecting the remainders, until the quotient is less than 3.\n",
    "3. **Construct the ternary number**: The ternary representation of \\(n\\) is the sequence of remainders, read in reverse order (from last remainder to first).\n",
    "\n",
    "For example, to convert the decimal number 65 to its ternary representation:\n",
    "\n",
    "- First, divide 65 by 3, giving a quotient of 21 and a remainder of 2.\n",
    "- Next, divide 21 by 3, giving a quotient of 7 and a remainder of 0.\n",
    "- Then, divide 7 by 3, giving a quotient of 2 and a remainder of 1.\n",
    "- Finally, since the quotient is now less than 3, we stop.\n",
    "\n",
    "The ternary representation of 65 is thus \\(2102\\), with the remainders taken in reverse order.\n",
    "\n",
    "### Code"
   ]
  },
  {
   "cell_type": "code",
   "execution_count": null,
   "id": "3eb4be9e-5094-4b90-82e0-31eb7c0302f7",
   "metadata": {},
   "outputs": [],
   "source": [
    "def ternary(n):\n",
    "    if n<3:\n",
    "        return [n]\n",
    "    q=n//3\n",
    "    r=n%3\n",
    "    return ternary(q)+[r]\n",
    "\n",
    "#Examples\n",
    "assert ternary(65) == [2, 1, 0, 2]\n",
    "assert ternary(100) == [1, 0, 2, 0, 1]"
   ]
  }
 ],
 "metadata": {
  "kernelspec": {
   "display_name": "Python 3 (ipykernel)",
   "language": "python",
   "name": "python3"
  },
  "language_info": {
   "codemirror_mode": {
    "name": "ipython",
    "version": 3
   },
   "file_extension": ".py",
   "mimetype": "text/x-python",
   "name": "python",
   "nbconvert_exporter": "python",
   "pygments_lexer": "ipython3",
   "version": "3.12.7"
  }
 },
 "nbformat": 4,
 "nbformat_minor": 5
}
