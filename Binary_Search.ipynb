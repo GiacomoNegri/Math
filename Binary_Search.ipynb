{
 "cells": [
  {
   "cell_type": "markdown",
   "id": "62170b36-8088-42b7-9f92-e5a56cd50b34",
   "metadata": {},
   "source": [
    "## Binary Search\n",
    "### Description\n",
    "You are given a **sorted list of distinct numbers** and a target value. The target might or might not be an element of the list. \n",
    "### Code"
   ]
  },
  {
   "cell_type": "code",
   "execution_count": null,
   "id": "d192503a-c929-464b-9acc-0438976cbb88",
   "metadata": {},
   "outputs": [],
   "source": [
    "def binary_search(arr: list[int], key: int, left: int, right: int) -> int:\n",
    "    mid=(left+right)//2\n",
    "    \n",
    "    if arr[mid]==key:\n",
    "        return mid\n",
    "    elif key>arr[mid]:\n",
    "        return binary_search(arr,key,mid+1,len(arr)-1)\n",
    "    elif key<arr[mid]:\n",
    "        return binary_search(arr,key,0,mid-1)\n",
    "    else:\n",
    "        return False"
   ]
  }
 ],
 "metadata": {
  "kernelspec": {
   "display_name": "Python 3 (ipykernel)",
   "language": "python",
   "name": "python3"
  },
  "language_info": {
   "codemirror_mode": {
    "name": "ipython",
    "version": 3
   },
   "file_extension": ".py",
   "mimetype": "text/x-python",
   "name": "python",
   "nbconvert_exporter": "python",
   "pygments_lexer": "ipython3",
   "version": "3.12.7"
  }
 },
 "nbformat": 4,
 "nbformat_minor": 5
}
