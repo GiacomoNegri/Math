{
 "cells": [
  {
   "cell_type": "markdown",
   "id": "34341837-b796-4684-8b0d-a4da8aa1ab92",
   "metadata": {},
   "source": [
    "## Manhattan Distance Between Two Vectors\n",
    "### Description\n",
    "\n",
    "The Manhattan distance between two vectors, $v$ and $w$ with dimension $n$ is calculated as:\n",
    "\n",
    "$$\\sum_{i=1}^n |v_i-w_i|$$\n",
    "\n",
    "where $v_i$ and $w_i$ are the ith components of the two vectors.\n",
    "\n",
    "The code compute the Manhattan distance between two 1d arrays given in input. If the two arrays have different dimensions the function raise an exception.\n",
    "### Code"
   ]
  },
  {
   "cell_type": "code",
   "execution_count": null,
   "id": "76d4d5b9-fd08-48e4-a69d-7432694657f7",
   "metadata": {},
   "outputs": [],
   "source": [
    "import numpy as np\n",
    "def manhattan(v,w):\n",
    "    if len(v.shape)+len(w.shape)!=2 or v.shape[0]!=w.shape[0]:\n",
    "        raise ValueError\n",
    "    else:\n",
    "        return sum(abs(v-w))"
   ]
  }
 ],
 "metadata": {
  "kernelspec": {
   "display_name": "Python 3 (ipykernel)",
   "language": "python",
   "name": "python3"
  },
  "language_info": {
   "codemirror_mode": {
    "name": "ipython",
    "version": 3
   },
   "file_extension": ".py",
   "mimetype": "text/x-python",
   "name": "python",
   "nbconvert_exporter": "python",
   "pygments_lexer": "ipython3",
   "version": "3.12.7"
  }
 },
 "nbformat": 4,
 "nbformat_minor": 5
}
