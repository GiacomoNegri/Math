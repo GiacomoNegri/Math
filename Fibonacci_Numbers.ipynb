{
 "cells": [
  {
   "cell_type": "markdown",
   "id": "50cce76a-1ed0-4d13-a923-2c1c7a4dcab2",
   "metadata": {},
   "source": [
    "## Fibonacci Numbers\n",
    "### Description\n",
    "The Fibonacci numbers sequence $F_n$ is defined by\n",
    "\n",
    "$F_0=0$, $F_1=1$, and $F_n = F_{n-1} + F_{n-2}$.\n",
    "\n",
    "The first seven Fibonacci numbers are 0, 1, 1, 2, 3, 5, 8. \n",
    "### Code"
   ]
  },
  {
   "cell_type": "code",
   "execution_count": null,
   "id": "2a69ec56-f011-4e6a-ab61-0ff8efeabbe1",
   "metadata": {},
   "outputs": [],
   "source": [
    "def fib(n) -> int:\n",
    "    if n==0:\n",
    "        return 0\n",
    "    elif n==1:\n",
    "        return 1\n",
    "    else:\n",
    "        return fib(n-1)+fib(n-2)"
   ]
  }
 ],
 "metadata": {
  "kernelspec": {
   "display_name": "Python 3 (ipykernel)",
   "language": "python",
   "name": "python3"
  },
  "language_info": {
   "codemirror_mode": {
    "name": "ipython",
    "version": 3
   },
   "file_extension": ".py",
   "mimetype": "text/x-python",
   "name": "python",
   "nbconvert_exporter": "python",
   "pygments_lexer": "ipython3",
   "version": "3.12.7"
  }
 },
 "nbformat": 4,
 "nbformat_minor": 5
}
