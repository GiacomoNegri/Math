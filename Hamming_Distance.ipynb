{
 "cells": [
  {
   "cell_type": "markdown",
   "id": "a33a1207-679b-4554-965a-54f1a93d1dea",
   "metadata": {},
   "source": [
    "## Hamming Distance\n",
    "### Description\n",
    "The Hamming distance between two sequences of the same length is defined as the number of positions in which the two sequences don't match. \n",
    "\n",
    "Hamming distance is used, together with many other Computer Science tools, In Computational Biology to better understand the way DNA works. In fact, DNA sequences are long strings composed of four letters: A, C, G, T. The Hamming distance between them is a measure of how far two DNAs are from one another. For example, given the following two sequences\n",
    "\n",
    "```\n",
    "G A G C C T A C T A A C G G G A T\n",
    "C A T C G T A A T G A C G G C C T\n",
    "*   *   *     *   *         * *\n",
    "```\n",
    "\n",
    "their Hamming distance is 7 (differences are denoted by asterisks). \n",
    "\n",
    "> Note that real DNA sequences are much longer; the human DNA is 3.2 billion characters long.\n",
    "### Code"
   ]
  },
  {
   "cell_type": "code",
   "execution_count": null,
   "id": "b3f88cd0-67cd-49f1-a7e0-05c0dc2b09ef",
   "metadata": {},
   "outputs": [],
   "source": [
    "def hamming(a, b):\n",
    "    count_=0\n",
    "    for i_, el_ in enumerate(a):\n",
    "        if el_!=b[i_]:\n",
    "            count_+=1\n",
    "    return count_"
   ]
  }
 ],
 "metadata": {
  "kernelspec": {
   "display_name": "Python 3 (ipykernel)",
   "language": "python",
   "name": "python3"
  },
  "language_info": {
   "codemirror_mode": {
    "name": "ipython",
    "version": 3
   },
   "file_extension": ".py",
   "mimetype": "text/x-python",
   "name": "python",
   "nbconvert_exporter": "python",
   "pygments_lexer": "ipython3",
   "version": "3.12.7"
  }
 },
 "nbformat": 4,
 "nbformat_minor": 5
}
